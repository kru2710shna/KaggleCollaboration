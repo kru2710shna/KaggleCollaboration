{
 "cells": [
  {
   "cell_type": "markdown",
   "id": "095abf8f",
   "metadata": {},
   "source": [
    "## Store Sales - Time Series Forecasting##"
   ]
  },
  {
   "cell_type": "code",
   "execution_count": null,
   "id": "f3814202",
   "metadata": {},
   "outputs": [],
   "source": []
  }
 ],
 "metadata": {
  "kernelspec": {
   "display_name": "Python 3 (ipykernel)",
   "language": "python",
   "name": "python3"
  },
  "language_info": {
   "codemirror_mode": {
    "name": "ipython",
    "version": 3
   },
   "file_extension": ".py",
   "mimetype": "text/x-python",
   "name": "python",
   "nbconvert_exporter": "python",
   "pygments_lexer": "ipython3",
   "version": "3.11.5"
  }
 },
 "nbformat": 4,
 "nbformat_minor": 5
}
